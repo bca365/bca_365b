{
 "cells": [
  {
   "cell_type": "markdown",
   "metadata": {},
   "source": [
    "## User defined functions\n",
    "\n",
    "It is often useful to define your own function to do something then have your python code call that function.\n",
    "\n",
    "This can be useful when you want to perform the same computation in several different scenarios.  If you put this computation inside a function then you won't have to rewrite your code each time you want to make the computation.\n",
    "\n",
    "There are 2 ways to do this\n",
    "1. defined functions\n",
    "2. lambda functions (inline)"
   ]
  },
  {
   "cell_type": "code",
   "execution_count": 7,
   "metadata": {},
   "outputs": [
    {
     "name": "stdout",
     "output_type": "stream",
     "text": [
      "x^2 + 7 =  32\n",
      "    this is my documentation string\n",
      "    it needs to be in triple double quotes\n",
      "    this function returns x^2 + 7\n"
     ]
    }
   ],
   "source": [
    "# define a function that takes an input, squares it, adds 7, then returns the answer\n",
    "def x2p7(x):\n",
    "    \"\"\"    this is my documentation string\n",
    "    it needs to be in triple double quotes\n",
    "    this function returns x^2 + 7\"\"\"\n",
    "    y = x*x\n",
    "    z = y+7\n",
    "    return z\n",
    "\n",
    "print('x^2 + 7 = ',x2p7(5))\n",
    "print(x2p7.__doc__)"
   ]
  },
  {
   "cell_type": "markdown",
   "metadata": {},
   "source": [
    "This code defines a function that calculates square of any number, say X as y, and add 7 to it. It stores the result in valiable storage z.\n",
    "It also display a small documentation associated with the function."
   ]
  },
  {
   "cell_type": "code",
   "execution_count": 8,
   "metadata": {},
   "outputs": [
    {
     "data": {
      "text/plain": [
       "<function __main__.x2p7(x)>"
      ]
     },
     "execution_count": 8,
     "metadata": {},
     "output_type": "execute_result"
    }
   ],
   "source": [
    "# if we have a documentation string then we can quickly access it with shift+tab\n",
    "x2p7"
   ]
  },
  {
   "cell_type": "markdown",
   "metadata": {},
   "source": [
    "I dont understand the output [8]"
   ]
  },
  {
   "cell_type": "code",
   "execution_count": 15,
   "metadata": {},
   "outputs": [
    {
     "name": "stdout",
     "output_type": "stream",
     "text": [
      "[34, 234, 31, 888, 68, 468, 62, 1776, 102, 702, 93, 2664, 136, 936, 124, 3552]\n"
     ]
    }
   ],
   "source": [
    "# these functions can be very complicated\n",
    "\n",
    "def complicated_function(x,y):\n",
    "    lenx = len(x)\n",
    "    leny = len(y)\n",
    "    \n",
    "    z = [0]*(lenx*leny)\n",
    "  \n",
    "    counter = 0\n",
    "    for i in x:\n",
    "        for j in y:\n",
    "            z[counter] = i*j\n",
    "            counter = counter+1\n",
    "\n",
    "    return z\n",
    "\n",
    "output = complicated_function([1,2,3,4],[34,234,31,888])\n",
    "print(output)\n"
   ]
  },
  {
   "cell_type": "markdown",
   "metadata": {},
   "source": [
    "Complicated_function takes two arguements, x and y. \n",
    "It multiplies each element from x with each element from y and stores the result in the corresponding position of the z list unsing nested loop.\n",
    "The function calculates the length of x and y using len(), then the function initializes a list z with the length of x multiplied by the length of y.\n"
   ]
  },
  {
   "cell_type": "code",
   "execution_count": 9,
   "metadata": {},
   "outputs": [
    {
     "ename": "NameError",
     "evalue": "name 'lenx' is not defined",
     "output_type": "error",
     "traceback": [
      "\u001b[1;31m---------------------------------------------------------------------------\u001b[0m",
      "\u001b[1;31mNameError\u001b[0m                                 Traceback (most recent call last)",
      "\u001b[1;32m<ipython-input-9-c9cfb4e46fec>\u001b[0m in \u001b[0;36m<module>\u001b[1;34m\u001b[0m\n\u001b[0;32m      1\u001b[0m \u001b[1;31m# Scope\u001b[0m\u001b[1;33m\u001b[0m\u001b[1;33m\u001b[0m\u001b[1;33m\u001b[0m\u001b[0m\n\u001b[1;32m----> 2\u001b[1;33m \u001b[0mprint\u001b[0m\u001b[1;33m(\u001b[0m\u001b[0mlenx\u001b[0m\u001b[1;33m)\u001b[0m\u001b[1;33m\u001b[0m\u001b[1;33m\u001b[0m\u001b[0m\n\u001b[0m",
      "\u001b[1;31mNameError\u001b[0m: name 'lenx' is not defined"
     ]
    }
   ],
   "source": [
    "# Scope\n",
    "print(lenx)"
   ]
  },
  {
   "cell_type": "markdown",
   "metadata": {},
   "source": [
    "Lenx was not defined outside the function, it is local to the scope by default, at such  print(lenx) will only run with the function"
   ]
  },
  {
   "cell_type": "code",
   "execution_count": 5,
   "metadata": {},
   "outputs": [
    {
     "name": "stdout",
     "output_type": "stream",
     "text": [
      "426\n",
      "213\n"
     ]
    }
   ],
   "source": [
    "# a variable defined inside a function cannot be accessed from outside the function\n",
    "# but a variable defined outside a function can be accessed from inside the function!\n",
    "outside_var = 213\n",
    "def a_function(x):\n",
    "    return outside_var*x\n",
    "\n",
    "print(a_function(2))\n",
    "print(outside_var)"
   ]
  },
  {
   "cell_type": "markdown",
   "metadata": {},
   "source": [
    "This function uses an outside_var to multiply  arguement x within the scope of the function"
   ]
  },
  {
   "cell_type": "code",
   "execution_count": 16,
   "metadata": {},
   "outputs": [
    {
     "name": "stdout",
     "output_type": "stream",
     "text": [
      "20\n",
      "5\n"
     ]
    }
   ],
   "source": [
    "# we can address the scope issue by declaring a variable as global\n",
    "def another_function(x):\n",
    "    global global_var\n",
    "    global_var = 5\n",
    "    return global_var*x\n",
    "\n",
    "print(another_function(4))\n",
    "print(global_var)"
   ]
  },
  {
   "cell_type": "markdown",
   "metadata": {},
   "source": [
    "Global declaration of the variable  make the variable to be used outside the scope of a function"
   ]
  },
  {
   "cell_type": "code",
   "execution_count": 17,
   "metadata": {},
   "outputs": [
    {
     "name": "stdout",
     "output_type": "stream",
     "text": [
      "32\n"
     ]
    }
   ],
   "source": [
    "# the first function we wrote (x2p7) was actually a very simple function\n",
    "# we can define such simple functions 'inline' using something called a lambda function\n",
    "\n",
    "x2p7v2 = lambda x: x*x+7\n",
    "print(x2p7v2(5))"
   ]
  },
  {
   "cell_type": "markdown",
   "metadata": {},
   "source": [
    "This is a simple lambda function, which take argument x, square it and add 7 to the square of x possible for a single use"
   ]
  },
  {
   "cell_type": "code",
   "execution_count": 18,
   "metadata": {},
   "outputs": [
    {
     "name": "stdout",
     "output_type": "stream",
     "text": [
      "40.4\n"
     ]
    }
   ],
   "source": [
    "# lambda functions can also take more than 1 input\n",
    "another_lambda = lambda x,y,z: x*y + y*z + x/y\n",
    "print(another_lambda(2,5,6))"
   ]
  },
  {
   "cell_type": "markdown",
   "metadata": {},
   "source": [
    "This is a simple lambda function, which takes arguments x, y,z  to calculate x multiplied by y, and y multiplied by z, and x divided by y, then add every together."
   ]
  }
 ],
 "metadata": {
  "kernelspec": {
   "display_name": "Python 3",
   "language": "python",
   "name": "python3"
  },
  "language_info": {
   "codemirror_mode": {
    "name": "ipython",
    "version": 3
   },
   "file_extension": ".py",
   "mimetype": "text/x-python",
   "name": "python",
   "nbconvert_exporter": "python",
   "pygments_lexer": "ipython3",
   "version": "3.7.6"
  }
 },
 "nbformat": 4,
 "nbformat_minor": 4
}
